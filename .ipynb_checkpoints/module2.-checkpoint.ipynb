{
 "cells": [
  {
   "cell_type": "code",
   "execution_count": 3,
   "id": "94190a0c",
   "metadata": {},
   "outputs": [
    {
     "name": "stdout",
     "output_type": "stream",
     "text": [
      "enter a number:2\n",
      "positive number\n"
     ]
    }
   ],
   "source": [
    "#number is positive , negative or zero\n",
    "num = float(input('enter a number:'))\n",
    "if num > 0:\n",
    "    print('positive number')\n",
    "elif num == 0:\n",
    "    print('zero')\n",
    "else:\n",
    "    print('negative number')"
   ]
  },
  {
   "cell_type": "code",
   "execution_count": 4,
   "id": "2f28a8d5",
   "metadata": {},
   "outputs": [
    {
     "name": "stdout",
     "output_type": "stream",
     "text": [
      "The factorial of 6 is 720\n"
     ]
    }
   ],
   "source": [
    "#factorial number\n",
    "num = 6\n",
    "\n",
    "factorial = 1\n",
    "\n",
    "if num < 0 :\n",
    "    print(\"Sorry, not negative numbers\")\n",
    "elif num == 0:\n",
    "   print(\"The factorial of 0 is 1\")\n",
    "else:\n",
    "   for i in range(1,num + 1):\n",
    "       factorial = factorial*i\n",
    "   print(\"The factorial of\",num,\"is\",factorial)"
   ]
  },
  {
   "cell_type": "code",
   "execution_count": 5,
   "id": "fb08ea24",
   "metadata": {},
   "outputs": [
    {
     "name": "stdout",
     "output_type": "stream",
     "text": [
      "How many terms? 4\n",
      "Fibonacci sequence:\n",
      "0\n",
      "1\n",
      "1\n",
      "2\n"
     ]
    }
   ],
   "source": [
    "# Program to display the Fibonacci sequence up to n-th t\n",
    "n = int(input(\"How many terms? \"))\n",
    "\n",
    "n1, n2 = 0, 1\n",
    "count = 0\n",
    "\n",
    "if n <= 0:\n",
    "   print(\"Please enter a positive integer\")\n",
    "elif n == 1:\n",
    "   print(\"Fibonacci sequence upto\",nterms,\":\")\n",
    "   print(n1)\n",
    "else:\n",
    "   print(\"Fibonacci sequence:\")\n",
    "   while count < n:\n",
    "       print(n1)\n",
    "       nth = n1 + n2\n",
    "       n1 = n2\n",
    "       n2 = nth\n",
    "       count += 1\n",
    "\n"
   ]
  },
  {
   "cell_type": "code",
   "execution_count": 6,
   "id": "8f065ebb",
   "metadata": {},
   "outputs": [
    {
     "name": "stdout",
     "output_type": "stream",
     "text": [
      "h\n",
      "e\n",
      "o\n"
     ]
    }
   ],
   "source": [
    "# continue statement\n",
    "for i in 'hello':\n",
    "    if i == 'l':\n",
    "        continue\n",
    "    print(i)"
   ]
  },
  {
   "cell_type": "code",
   "execution_count": 13,
   "id": "4880d25c",
   "metadata": {},
   "outputs": [
    {
     "name": "stdout",
     "output_type": "stream",
     "text": [
      "x value: 4\n",
      "y value: 5\n"
     ]
    }
   ],
   "source": [
    "# swap two number\n",
    "x = 5\n",
    "y = 4\n",
    "\n",
    "z = x\n",
    "x = y\n",
    "y = z\n",
    "\n",
    "print('x value:',x)\n",
    "print('y value:',y)"
   ]
  },
  {
   "cell_type": "code",
   "execution_count": 14,
   "id": "a7703c05",
   "metadata": {},
   "outputs": [
    {
     "name": "stdout",
     "output_type": "stream",
     "text": [
      "0\n",
      "2\n",
      "4\n",
      "6\n",
      "8\n"
     ]
    }
   ],
   "source": [
    "# even number\n",
    "\n",
    "i = 0\n",
    "while i < 10:\n",
    "  if i % 2 == 0:\n",
    "    print(i)\n",
    "  i += 1"
   ]
  },
  {
   "cell_type": "code",
   "execution_count": 17,
   "id": "cdaad33c",
   "metadata": {},
   "outputs": [
    {
     "name": "stdout",
     "output_type": "stream",
     "text": [
      "1\n",
      "3\n",
      "5\n",
      "7\n",
      "9\n"
     ]
    }
   ],
   "source": [
    "# odd number\n",
    "\n",
    "i = 0\n",
    "while i < 10:\n",
    "  if i % 2 == 1:\n",
    "    print(i)\n",
    "  i += 1"
   ]
  },
  {
   "cell_type": "code",
   "execution_count": 3,
   "id": "943f1710",
   "metadata": {},
   "outputs": [
    {
     "name": "stdout",
     "output_type": "stream",
     "text": [
      "0\n"
     ]
    }
   ],
   "source": [
    "#sum of three given integers. However if two values are equal sum will be zero.\n",
    "\n",
    "def a(x, y, z):\n",
    "    if x == y or y == z or x==z:\n",
    "        sum = 0\n",
    "    else:\n",
    "        sum = x + y + z\n",
    "    return sum\n",
    "print(a(2, 1, 2))\n"
   ]
  },
  {
   "cell_type": "code",
   "execution_count": 20,
   "id": "2257b9e0",
   "metadata": {},
   "outputs": [
    {
     "name": "stdout",
     "output_type": "stream",
     "text": [
      "True\n",
      "True\n",
      "True\n",
      "True\n",
      "True\n"
     ]
    }
   ],
   "source": [
    "#return true if the two given integer values are equal or their sum or difference is 5.\n",
    "\n",
    "def nu(x, y):\n",
    "   if x == y or abs(x-y) == 5 or (x+y) == 5:\n",
    "       return True\n",
    "   else:\n",
    "       return False\n",
    "print(nu(7, 2))\n",
    "print(nu(3, 2))\n",
    "print(nu(2, 2))\n",
    "print(nu(3, 3))\n",
    "print(nu(8, 3))"
   ]
  },
  {
   "cell_type": "code",
   "execution_count": 22,
   "id": "ad90714d",
   "metadata": {},
   "outputs": [
    {
     "name": "stdout",
     "output_type": "stream",
     "text": [
      "Input a number: 4\n",
      "Sum of the first 4 positive integers: 10.0\n"
     ]
    }
   ],
   "source": [
    "#sum of the first n positive integers.\n",
    "n = int(input(\"Input a number: \"))\n",
    "sum_num = (n * (n + 1)) / 2\n",
    "print(\"Sum of the first\", n ,\"positive integers:\", sum_num)"
   ]
  },
  {
   "cell_type": "code",
   "execution_count": 25,
   "id": "a44628c2",
   "metadata": {},
   "outputs": [
    {
     "name": "stdout",
     "output_type": "stream",
     "text": [
      "Enter a string: welcome to india\n",
      "Length of string: 16\n"
     ]
    }
   ],
   "source": [
    "#calculate the length of a string.\n",
    "string = input(\"Enter a string: \")\n",
    "\n",
    "c = 0\n",
    "for s in string:\n",
    "      c = c+1\n",
    "print(\"Length of string:\", c)"
   ]
  },
  {
   "cell_type": "code",
   "execution_count": 30,
   "id": "888ae47f",
   "metadata": {},
   "outputs": [
    {
     "name": "stdout",
     "output_type": "stream",
     "text": [
      "{'w': 1, 'e': 2, 'l': 1, 'c': 1, 'o': 2, 'm': 1, ' ': 2, 't': 1, 'i': 2, 'n': 1, 'd': 1, 'a': 1}\n"
     ]
    }
   ],
   "source": [
    "#count the number of characters (character frequency) in a string\n",
    "\n",
    "def c(str1):\n",
    "    dict = {}\n",
    "    for n in str1:\n",
    "        keys = dict.keys()\n",
    "        if n in keys:\n",
    "            dict[n] += 1\n",
    "        else:\n",
    "            dict[n] = 1\n",
    "    return dict\n",
    "print(c('welcome to india'))\n"
   ]
  },
  {
   "cell_type": "code",
   "execution_count": 31,
   "id": "d2df650e",
   "metadata": {},
   "outputs": [],
   "source": [
    "#What are negative indexes and why are they used?\n",
    "\n",
    "# -You can use to pick values from the end (right side) of an iterable."
   ]
  },
  {
   "cell_type": "code",
   "execution_count": 33,
   "id": "e8c89d9f",
   "metadata": {},
   "outputs": [
    {
     "name": "stdout",
     "output_type": "stream",
     "text": [
      "1\n"
     ]
    }
   ],
   "source": [
    "#count occurrences of a substring in a string.\n",
    "s = 'welcome to india'\n",
    "\n",
    "print(s.count('to'))"
   ]
  },
  {
   "cell_type": "code",
   "execution_count": 43,
   "id": "e56f74c8",
   "metadata": {},
   "outputs": [
    {
     "name": "stdout",
     "output_type": "stream",
     "text": [
      "{'welcome': 1, 'to': 1, 'india': 1}\n"
     ]
    }
   ],
   "source": [
    "#count the occurrences of each word in a given sentence\n",
    "\n",
    "def c(str):\n",
    "    co = dict()\n",
    "    w = str.split()\n",
    "\n",
    "    for wo in w:\n",
    "        if wo in co:\n",
    "            co[wo] += 1\n",
    "        else:\n",
    "            co[wo] = 1\n",
    "\n",
    "    return co\n",
    "\n",
    "print( c('welcome to india'))"
   ]
  },
  {
   "cell_type": "code",
   "execution_count": 46,
   "id": "167a2751",
   "metadata": {},
   "outputs": [
    {
     "name": "stdout",
     "output_type": "stream",
     "text": [
      "xyc abz\n"
     ]
    }
   ],
   "source": [
    "def c(a, b):\n",
    "  new_a = b[:2] + a[2:]\n",
    "  new_b = a[:2] + b[2:]\n",
    "\n",
    "  return new_a + ' ' + new_b\n",
    "print(c('abc', 'xyz'))"
   ]
  },
  {
   "cell_type": "code",
   "execution_count": null,
   "id": "e166b241",
   "metadata": {},
   "outputs": [],
   "source": []
  }
 ],
 "metadata": {
  "kernelspec": {
   "display_name": "Python 3 (ipykernel)",
   "language": "python",
   "name": "python3"
  },
  "language_info": {
   "codemirror_mode": {
    "name": "ipython",
    "version": 3
   },
   "file_extension": ".py",
   "mimetype": "text/x-python",
   "name": "python",
   "nbconvert_exporter": "python",
   "pygments_lexer": "ipython3",
   "version": "3.9.12"
  }
 },
 "nbformat": 4,
 "nbformat_minor": 5
}
