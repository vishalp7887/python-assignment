{
 "cells": [
  {
   "cell_type": "markdown",
   "id": "272941c4",
   "metadata": {},
   "source": [
    "# MODULE-1: Python"
   ]
  },
  {
   "cell_type": "markdown",
   "id": "a34e951b",
   "metadata": {},
   "source": [
    "## assignment"
   ]
  },
  {
   "cell_type": "markdown",
   "id": "e63fca28",
   "metadata": {},
   "source": [
    "### 1. Write a python program to sum of the first n positive integers."
   ]
  },
  {
   "cell_type": "code",
   "execution_count": 2,
   "id": "8a28b99c",
   "metadata": {},
   "outputs": [
    {
     "name": "stdout",
     "output_type": "stream",
     "text": [
      "enter a number: 5\n",
      "Sum of the first 5 positive integers: 15.0\n"
     ]
    }
   ],
   "source": [
    "n = int(input('enter a number: '))\n",
    "s = (n * (n + 1)) / 2\n",
    "print('Sum of the first', n ,'positive integers:', s)"
   ]
  },
  {
   "cell_type": "markdown",
   "id": "def55541",
   "metadata": {},
   "source": [
    "### 2. Write a Python program to count occurrences of a substring in a string."
   ]
  },
  {
   "cell_type": "code",
   "execution_count": 2,
   "id": "3eedef4a",
   "metadata": {},
   "outputs": [
    {
     "name": "stdout",
     "output_type": "stream",
     "text": [
      "1\n"
     ]
    }
   ],
   "source": [
    "string = 'welcome to india '\n",
    "substring = 'to'\n",
    "\n",
    "c = string.count(substring)\n",
    "\n",
    "print(c)"
   ]
  },
  {
   "cell_type": "markdown",
   "id": "26b744c8",
   "metadata": {},
   "source": [
    "### 3. Write a Python program to count the occurrences of each word in a given sentence."
   ]
  },
  {
   "cell_type": "code",
   "execution_count": 4,
   "id": "4df5a688",
   "metadata": {},
   "outputs": [
    {
     "name": "stdout",
     "output_type": "stream",
     "text": [
      "enter your string: welcome to india welcome to ahmedabad\n",
      "{'welcome': 2, 'to': 2, 'india': 1, 'ahmedabad': 1}\n"
     ]
    }
   ],
   "source": [
    "s = input('enter your string: ') \n",
    "s = s.split()\n",
    "d = {}\n",
    "\n",
    "for i in s:\n",
    "    if i in d:\n",
    "        d[i] += 1\n",
    "    else:\n",
    "        d[i] = 1\n",
    "print(d)"
   ]
  },
  {
   "cell_type": "markdown",
   "id": "9a6ffb21",
   "metadata": {},
   "source": [
    "###  4. Write a Python program to get a single string from two given strings, separated by a space and swap the first two characters of each string."
   ]
  },
  {
   "cell_type": "code",
   "execution_count": 1,
   "id": "afc58ea6",
   "metadata": {},
   "outputs": [
    {
     "name": "stdout",
     "output_type": "stream",
     "text": [
      "enter your string: hello\n",
      "enter your string: python\n",
      "pyllo hethon\n"
     ]
    }
   ],
   "source": [
    "a = input('enter your string: ')\n",
    "b = input('enter your string: ')\n",
    "\n",
    "x = b[:2] + a[2:]\n",
    "y = a[:2] + b[2:]\n",
    "\n",
    "print(x,y)"
   ]
  },
  {
   "cell_type": "markdown",
   "id": "6726b84e",
   "metadata": {},
   "source": [
    "### 5. Write a Python program to add 'ing' at the end of a given string (length should be at least 3).If the given string already ends with 'ing' then add 'ly' instead If the string length of the givenstring is less than 3, leave it unchanged"
   ]
  },
  {
   "cell_type": "code",
   "execution_count": 2,
   "id": "f9c3df74",
   "metadata": {},
   "outputs": [
    {
     "name": "stdout",
     "output_type": "stream",
     "text": [
      "enter your string: typ\n",
      "typing\n"
     ]
    }
   ],
   "source": [
    "s = input('enter your string: ')\n",
    "\n",
    "l = len(s)\n",
    "  \n",
    "if l > 2:\n",
    "    if s[-3:] == 'ing':\n",
    "      s += 'ly'\n",
    "    else:\n",
    "      s += 'ing'\n",
    "    print(s)"
   ]
  },
  {
   "cell_type": "markdown",
   "id": "1560fe77",
   "metadata": {},
   "source": [
    "### 6. Write a Python program to find the first appearance of the substring 'not' and 'poor' from a given string, if 'not' follows the 'poor', replace the whole 'not'...'poor' substring with 'good'. Return the resulting string"
   ]
  },
  {
   "cell_type": "code",
   "execution_count": 4,
   "id": "5a91312e",
   "metadata": {},
   "outputs": [
    {
     "name": "stdout",
     "output_type": "stream",
     "text": [
      "this song is good\n"
     ]
    }
   ],
   "source": [
    "s = 'this song is not that poor'\n",
    "\n",
    "f = s.find('not')\n",
    "f2 = s.find('poor')\n",
    "\n",
    "if f2 > f: \n",
    "    s = s.replace(s[f:(f2+4)], 'good')\n",
    "    print(s)\n",
    "else:\n",
    "    print(s)"
   ]
  },
  {
   "cell_type": "markdown",
   "id": "2586dff4",
   "metadata": {},
   "source": [
    "### 7. Program to find Greatest Common Divisor of two numbers For example, the GCD of 20 and 28 is 4 and GCD of 98 and 56 is 14."
   ]
  },
  {
   "cell_type": "code",
   "execution_count": 1,
   "id": "c34771f5",
   "metadata": {},
   "outputs": [
    {
     "name": "stdout",
     "output_type": "stream",
     "text": [
      "enter first number98\n",
      "enter second number56\n",
      "GCD of 98 and 56 is 14\n"
     ]
    }
   ],
   "source": [
    "a = int(input('enter first number'))\n",
    "b = int(input('enter second number'))\n",
    "c = ()\n",
    "\n",
    "if a > b:\n",
    "    smaller = b\n",
    "else:\n",
    "    smaller = a\n",
    "for i in range(1,smaller+1):\n",
    "    if((a % i == 0) and (b % i == 0)):\n",
    "        c = i\n",
    "\n",
    "print('GCD of', a,'and',b, 'is', c)"
   ]
  },
  {
   "cell_type": "markdown",
   "id": "a3418348",
   "metadata": {},
   "source": [
    "### 8. Write a Python program to check whether a list contains a sublist."
   ]
  },
  {
   "cell_type": "code",
   "execution_count": 8,
   "id": "9ee44919",
   "metadata": {},
   "outputs": [
    {
     "name": "stdout",
     "output_type": "stream",
     "text": [
      "the list1 : [1, 7, 3, 6, 9, 2, 5, 8]\n",
      "sublist present in list1 ? : True\n"
     ]
    }
   ],
   "source": [
    "list1 = [1,7,3,6,9,2,5,8]\n",
    " \n",
    "print(\"the list1 : \" + str(list1))\n",
    " \n",
    "sublist = [6,9,2]\n",
    " \n",
    "res = False\n",
    "for idx in range(len(list1) - len(sublist) + 1):\n",
    "        if list1[idx : idx + len(sublist)] == sublist:\n",
    "            res = True\n",
    "            break\n",
    "         \n",
    "print(\"sublist present in list1 ? : \" + str(res))"
   ]
  },
  {
   "cell_type": "markdown",
   "id": "7cb17425",
   "metadata": {},
   "source": [
    "### 9. Write a Python program to find the second smallest number in a list."
   ]
  },
  {
   "cell_type": "code",
   "execution_count": 10,
   "id": "00913445",
   "metadata": {},
   "outputs": [
    {
     "name": "stdout",
     "output_type": "stream",
     "text": [
      "second smallest number in: 3\n"
     ]
    }
   ],
   "source": [
    "l = [1,6,3,73,7,3]\n",
    "l.sort()\n",
    "print('second smallest number in:',l[1])"
   ]
  },
  {
   "cell_type": "markdown",
   "id": "146e2d8c",
   "metadata": {},
   "source": [
    "### 10.  Write a Python program to get unique values from a list."
   ]
  },
  {
   "cell_type": "code",
   "execution_count": 11,
   "id": "b7808e26",
   "metadata": {},
   "outputs": [
    {
     "name": "stdout",
     "output_type": "stream",
     "text": [
      "[5, 10, 1, 23, 41]\n"
     ]
    }
   ],
   "source": [
    "l = [5,10,5,1,23,41,5,10]\n",
    "l2 =list()\n",
    "\n",
    "for i in l:\n",
    "    if i not in l2:\n",
    "        l2.append(i)\n",
    "else:\n",
    "    print(l2)"
   ]
  },
  {
   "cell_type": "markdown",
   "id": "5ff69544",
   "metadata": {},
   "source": [
    "### 11. Write a Python program to unzip a list of tuples into individual lists."
   ]
  },
  {
   "cell_type": "code",
   "execution_count": 11,
   "id": "e83ea326",
   "metadata": {},
   "outputs": [
    {
     "name": "stdout",
     "output_type": "stream",
     "text": [
      "[(1, 3, 5), (2, 4, 6)]\n"
     ]
    }
   ],
   "source": [
    "l = [(1,2),(3,4),(5,6)]\n",
    "\n",
    "print(list(zip(*l)))"
   ]
  },
  {
   "cell_type": "markdown",
   "id": "2e902112",
   "metadata": {},
   "source": [
    "### 12. Write a Python program to convert a list of tuples into a dictionary"
   ]
  },
  {
   "cell_type": "code",
   "execution_count": 13,
   "id": "5bd7dfd3",
   "metadata": {},
   "outputs": [
    {
     "name": "stdout",
     "output_type": "stream",
     "text": [
      "{1: 2, 4: 7, 9: 3}\n"
     ]
    }
   ],
   "source": [
    "l = [(1,2),(4,7),(9,3)]\n",
    "\n",
    "l = dict(l)\n",
    "\n",
    "print(l)"
   ]
  },
  {
   "cell_type": "markdown",
   "id": "b57dc169",
   "metadata": {},
   "source": [
    "### 13. Write a Python program to sort a dictionary (ascending /descending) by value."
   ]
  },
  {
   "cell_type": "code",
   "execution_count": 14,
   "id": "30103b09",
   "metadata": {},
   "outputs": [
    {
     "name": "stdout",
     "output_type": "stream",
     "text": [
      "[('a', 1), ('b', 2), ('c', 3), ('d', 4)]\n"
     ]
    }
   ],
   "source": [
    "d = {'c': 3,'a': 1,'d': 4,'b': 2}\n",
    "\n",
    "s = sorted([(key, value)\n",
    " for (key, value) in d.items()])\n",
    "\n",
    "print(s)"
   ]
  },
  {
   "cell_type": "markdown",
   "id": "73e74e1b",
   "metadata": {},
   "source": [
    "### 14. Write a Python program to find the highest 3 values in a dictionary."
   ]
  },
  {
   "cell_type": "code",
   "execution_count": 8,
   "id": "58ebc867",
   "metadata": {},
   "outputs": [
    {
     "name": "stdout",
     "output_type": "stream",
     "text": [
      "D\n",
      "E\n",
      "B\n"
     ]
    }
   ],
   "source": [
    "d = {'A': 42, 'B': 70, 'C': 68,'D': 92, 'E': 83, 'F': 15}\n",
    "\n",
    "d2 = sorted(d, key=d.get, reverse=True)\n",
    "\n",
    "for i in range(3):\n",
    "    print(d2[i])"
   ]
  },
  {
   "cell_type": "markdown",
   "id": "6642a015",
   "metadata": {},
   "source": [
    "### 15. Given a number n, write a python program to make and print the list of Fibonacci series up to n.\n",
    "### Input : n=7\n",
    "### Hint : first 7 numbers in the series\n",
    "### Expected output :\n",
    "### First few Fibonacci numbers are 0, 1, 1, 2, 3, 5, 8, 13"
   ]
  },
  {
   "cell_type": "code",
   "execution_count": 2,
   "id": "5b92a990",
   "metadata": {},
   "outputs": [
    {
     "name": "stdout",
     "output_type": "stream",
     "text": [
      "7 14 21 35 56 91 147 238 "
     ]
    }
   ],
   "source": [
    "n1 = 0\n",
    "n2 = 7\n",
    "\n",
    "for i in range(2,10):\n",
    "    n3 = n1 + n2\n",
    "    n1 = n2\n",
    "    n2 = n3\n",
    "    print(n3 , end=' ')"
   ]
  },
  {
   "cell_type": "markdown",
   "id": "489047ac",
   "metadata": {},
   "source": [
    "### 16. Counting the frequencies in a list using a dictionary in Python.\n",
    "### Input : [1, 1, 1, 5, 5, 3, 1, 3, 3, 1,4, 4, 4, 2, 2, 2, 2]\n",
    "### Expected output : 1 : 5 , 2 : 4 , 3 : 3 , 4 : 3 , 5 : 2"
   ]
  },
  {
   "cell_type": "code",
   "execution_count": 6,
   "id": "8e1f3b9a",
   "metadata": {},
   "outputs": [
    {
     "name": "stdout",
     "output_type": "stream",
     "text": [
      "{1: 5, 5: 2, 3: 3, 4: 3, 2: 4}\n"
     ]
    }
   ],
   "source": [
    "l = [1, 1, 1, 5, 5, 3, 1, 3, 3, 1, 4, 4, 4, 2, 2, 2, 2]\n",
    "d = {}\n",
    "\n",
    "for i in l:\n",
    "    if i in d:\n",
    "        d[i] += 1\n",
    "    else:\n",
    "        d[i] = 1\n",
    "print(d)"
   ]
  },
  {
   "cell_type": "markdown",
   "id": "e51d6bbc",
   "metadata": {},
   "source": [
    "### 17. Write a python program using function to find the sum of odd series and even series\n",
    "### Odd series: 12/ 1! + 32/ 3! + 52/ 5!+......n\n",
    "### Even series: 22/ 2! + 42/ 4! + 62/ 6!+......n"
   ]
  },
  {
   "cell_type": "code",
   "execution_count": 14,
   "id": "dcd54e99",
   "metadata": {},
   "outputs": [
    {
     "name": "stdout",
     "output_type": "stream",
     "text": [
      "the sum of odd numbers 9\n",
      "sum of even numbers 10\n"
     ]
    }
   ],
   "source": [
    "odd_series = [1,3,5,7,9]\n",
    "even_series = [2,4,6,8,10]\n",
    "odd_sum =0\n",
    "even_sum =0\n",
    "for i in odd_series:\n",
    "    sum =odd_sum +i    \n",
    "print(\"the sum of odd numbers\",sum)\n",
    "    \n",
    "for i in even_series:\n",
    "    sum =even_sum+i\n",
    "print(\"sum of even numbers\",sum)"
   ]
  },
  {
   "cell_type": "markdown",
   "id": "42ec86ab",
   "metadata": {},
   "source": [
    "### 18. Python Program to Find Factorial of Number Using Recursion"
   ]
  },
  {
   "cell_type": "code",
   "execution_count": 11,
   "id": "e61e6b79",
   "metadata": {},
   "outputs": [
    {
     "name": "stdout",
     "output_type": "stream",
     "text": [
      "The factorial of 5 is 120\n"
     ]
    }
   ],
   "source": [
    "def recur_factorial(n):\n",
    "   if n == 1:\n",
    "       return n\n",
    "   else:\n",
    "       return n*recur_factorial(n-1)\n",
    "\n",
    "num = 5\n",
    "\n",
    "print(\"The factorial of\", num, \"is\", recur_factorial(num))"
   ]
  },
  {
   "cell_type": "markdown",
   "id": "a6e4fe02",
   "metadata": {},
   "source": [
    "### 19. Write a Python function that takes a list and returns a new list with unique elements of the first list. "
   ]
  },
  {
   "cell_type": "code",
   "execution_count": 15,
   "id": "6e0ae756",
   "metadata": {},
   "outputs": [
    {
     "data": {
      "text/plain": [
       "[1, 2, 6, 4, 3]"
      ]
     },
     "execution_count": 15,
     "metadata": {},
     "output_type": "execute_result"
    }
   ],
   "source": [
    "def u_list(l):\n",
    "  x = []\n",
    "  for a in l:\n",
    "    if a not in x:\n",
    "      x.append(a)\n",
    "  return x\n",
    "\n",
    "u_list([1,2,6,4,2,4,1,2,4,3,2])"
   ]
  },
  {
   "cell_type": "markdown",
   "id": "4d468665",
   "metadata": {},
   "source": [
    "### 20. Mini project :\n",
    "##### Problem Statement : Password GeneratorMake a program to generate a strong password using the input given by the user. To generate a password,randomly take some words from the user input and then include numbers, special characters and capitalletters to generate the password. Also, keep a check that password length is more than 8 characters.Note: Include Exception handling wherever required. Also, make a ‘User’ class and store the details like userid, name and password of each user as a tuple."
   ]
  },
  {
   "cell_type": "code",
   "execution_count": 38,
   "id": "39d21292",
   "metadata": {},
   "outputs": [
    {
     "name": "stdout",
     "output_type": "stream",
     "text": [
      "enter your name : vishal\n",
      "enter your id : 1234\n",
      "('vishal', '1234', '8Z_>1(2~')\n"
     ]
    }
   ],
   "source": [
    "import random\n",
    "\n",
    "import string\n",
    "\n",
    "\n",
    "upper=string.ascii_uppercase       \n",
    "num =string.digits                 \n",
    "symbols =string.punctuation      \n",
    "\n",
    "\n",
    "add =upper+num+symbols\n",
    "\n",
    "user =list()\n",
    "name= input('enter your name : ')\n",
    "user_id = input('enter your id : ')\n",
    "password =''.join(random.choices(add,k=8))\n",
    "user.extend([name,user_id,password])\n",
    "\n",
    "print(tuple(user))"
   ]
  }
 ],
 "metadata": {
  "kernelspec": {
   "display_name": "Python 3 (ipykernel)",
   "language": "python",
   "name": "python3"
  },
  "language_info": {
   "codemirror_mode": {
    "name": "ipython",
    "version": 3
   },
   "file_extension": ".py",
   "mimetype": "text/x-python",
   "name": "python",
   "nbconvert_exporter": "python",
   "pygments_lexer": "ipython3",
   "version": "3.9.12"
  }
 },
 "nbformat": 4,
 "nbformat_minor": 5
}
