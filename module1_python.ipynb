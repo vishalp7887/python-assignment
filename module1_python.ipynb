{
 "cells": [
  {
   "cell_type": "code",
   "execution_count": 2,
   "id": "8a28b99c",
   "metadata": {},
   "outputs": [
    {
     "name": "stdout",
     "output_type": "stream",
     "text": [
      "enter a number: 5\n",
      "Sum of the first 5 positive integers: 15.0\n"
     ]
    }
   ],
   "source": [
    "# sum of the first n positive integers.\n",
    "\n",
    "n = int(input('enter a number: '))\n",
    "s = (n * (n + 1)) / 2\n",
    "print('Sum of the first', n ,'positive integers:', s)"
   ]
  },
  {
   "cell_type": "code",
   "execution_count": 1,
   "id": "3eedef4a",
   "metadata": {},
   "outputs": [
    {
     "data": {
      "text/plain": [
       "1"
      ]
     },
     "execution_count": 1,
     "metadata": {},
     "output_type": "execute_result"
    }
   ],
   "source": [
    "# count occurrences of a substring in a string.\n",
    "\n",
    "string = 'welcome to india'\n",
    "\n",
    "string.count('to')"
   ]
  },
  {
   "cell_type": "code",
   "execution_count": 4,
   "id": "4df5a688",
   "metadata": {},
   "outputs": [
    {
     "name": "stdout",
     "output_type": "stream",
     "text": [
      "enter your string: welcome to india welcome to ahmedabad\n",
      "welcome present 2 times\n",
      "to present 2 times\n",
      "india present 1 times\n",
      "welcome present 2 times\n",
      "to present 2 times\n",
      "ahmedabad present 1 times\n"
     ]
    }
   ],
   "source": [
    "# count the occurrences of each word\n",
    "\n",
    "string = input('enter your string: ')\n",
    "\n",
    "string = string.split()\n",
    "\n",
    "i = 0\n",
    "count = 0\n",
    "\n",
    "while i < len(string):\n",
    "    count = 0\n",
    "    for x in string:\n",
    "        if string[i] == x:\n",
    "           count = count + 1\n",
    "    print(string[i] ,'present', count,'times')\n",
    "\n",
    "    i += 1"
   ]
  },
  {
   "cell_type": "code",
   "execution_count": 1,
   "id": "afc58ea6",
   "metadata": {},
   "outputs": [
    {
     "name": "stdout",
     "output_type": "stream",
     "text": [
      "enter your string: hello\n",
      "enter your string: python\n",
      "pyllo hethon\n"
     ]
    }
   ],
   "source": [
    "#swap the first two characters of each string.\n",
    "\n",
    "a = input('enter your string: ')\n",
    "b = input('enter your string: ')\n",
    "\n",
    "x = b[:2] + a[2:]\n",
    "y = a[:2] + b[2:]\n",
    "\n",
    "print(x,y)"
   ]
  },
  {
   "cell_type": "code",
   "execution_count": 2,
   "id": "f9c3df74",
   "metadata": {},
   "outputs": [
    {
     "name": "stdout",
     "output_type": "stream",
     "text": [
      "enter your string: typ\n",
      "typing\n"
     ]
    }
   ],
   "source": [
    "# add 'ing' at the end (length should be at least 3) string already ends with 'ing' then add 'ly'.\n",
    "\n",
    "s = input('enter your string: ')\n",
    "\n",
    "l = len(s)\n",
    "  \n",
    "if l > 2:\n",
    "    if s[-3:] == 'ing':\n",
    "      s += 'ly'\n",
    "    else:\n",
    "      s += 'ing'\n",
    "    print(s)"
   ]
  },
  {
   "cell_type": "code",
   "execution_count": 4,
   "id": "5a91312e",
   "metadata": {},
   "outputs": [
    {
     "name": "stdout",
     "output_type": "stream",
     "text": [
      "this song is good\n"
     ]
    }
   ],
   "source": [
    "# replace the whole 'not'...'poor' substring with 'good'.\n",
    "s = 'this song is not that poor'\n",
    "\n",
    "f = s.find('not')\n",
    "f2 = s.find('poor')\n",
    "\n",
    "if f2 > f: \n",
    "    s = s.replace(s[f:(f2+4)], 'good')\n",
    "    print(s)\n",
    "else:\n",
    "    print(s)"
   ]
  },
  {
   "cell_type": "code",
   "execution_count": 1,
   "id": "c34771f5",
   "metadata": {},
   "outputs": [
    {
     "name": "stdout",
     "output_type": "stream",
     "text": [
      "enter first number98\n",
      "enter second number56\n",
      "GCD of 98 and 56 is 14\n"
     ]
    }
   ],
   "source": [
    "# GCD of two number\n",
    "a = int(input('enter first number'))\n",
    "b = int(input('enter second number'))\n",
    "c = ()\n",
    "\n",
    "if a > b:\n",
    "    smaller = b\n",
    "else:\n",
    "    smaller = a\n",
    "for i in range(1,smaller+1):\n",
    "    if((a % i == 0) and (b % i == 0)):\n",
    "        c = i\n",
    "\n",
    "print('GCD of', a,'and',b, 'is', c)"
   ]
  },
  {
   "cell_type": "code",
   "execution_count": 1,
   "id": "9ee44919",
   "metadata": {},
   "outputs": [
    {
     "name": "stdout",
     "output_type": "stream",
     "text": [
      "sublist is present\n"
     ]
    }
   ],
   "source": [
    "# check whether a list contains a sublist.\n",
    "l = [[1,2],[6,9],[2,5]]\n",
    "\n",
    "c = [6,9]\n",
    "\n",
    "if c in l:\n",
    "    print('sublist is present')\n",
    "else:\n",
    "    print('sublist is not present')"
   ]
  },
  {
   "cell_type": "code",
   "execution_count": 10,
   "id": "00913445",
   "metadata": {},
   "outputs": [
    {
     "name": "stdout",
     "output_type": "stream",
     "text": [
      "second smallest number in: 3\n"
     ]
    }
   ],
   "source": [
    "# second smallest number in a list.\n",
    "\n",
    "l = [1,6,3,73,7,3]\n",
    "l.sort()\n",
    "print('second smallest number in:',l[1])"
   ]
  },
  {
   "cell_type": "code",
   "execution_count": 11,
   "id": "b7808e26",
   "metadata": {},
   "outputs": [
    {
     "name": "stdout",
     "output_type": "stream",
     "text": [
      "[5, 10, 1, 23, 41]\n"
     ]
    }
   ],
   "source": [
    "# get unique values from a list.\n",
    "\n",
    "l = [5,10,5,1,23,41,5,10]\n",
    "l2 =list()\n",
    "\n",
    "for i in l:\n",
    "    if i not in l2:\n",
    "        l2.append(i)\n",
    "else:\n",
    "    print(l2)"
   ]
  },
  {
   "cell_type": "code",
   "execution_count": 11,
   "id": "e83ea326",
   "metadata": {},
   "outputs": [
    {
     "name": "stdout",
     "output_type": "stream",
     "text": [
      "[(1, 3, 5), (2, 4, 6)]\n"
     ]
    }
   ],
   "source": [
    "# unzip a list of tuples into individual lists.\n",
    "\n",
    "l = [(1,2),(3,4),(5,6)]\n",
    "\n",
    "print(list(zip(*l)))"
   ]
  },
  {
   "cell_type": "code",
   "execution_count": 13,
   "id": "5bd7dfd3",
   "metadata": {},
   "outputs": [
    {
     "name": "stdout",
     "output_type": "stream",
     "text": [
      "{1: 2, 4: 7, 9: 3}\n"
     ]
    }
   ],
   "source": [
    "# convert a list of tuples into a dictionary\n",
    "\n",
    "l = [(1,2),(4,7),(9,3)]\n",
    "\n",
    "l = dict(l)\n",
    "\n",
    "print(l)"
   ]
  },
  {
   "cell_type": "code",
   "execution_count": 14,
   "id": "30103b09",
   "metadata": {},
   "outputs": [
    {
     "name": "stdout",
     "output_type": "stream",
     "text": [
      "[('a', 1), ('b', 2), ('c', 3), ('d', 4)]\n"
     ]
    }
   ],
   "source": [
    "# sort a dictionary (ascending /descending) by value.\n",
    "d = {'c': 3,'a': 1,'d': 4,'b': 2}\n",
    "\n",
    "s = sorted([(key, value)\n",
    " for (key, value) in d.items()])\n",
    "\n",
    "print(s)"
   ]
  },
  {
   "cell_type": "code",
   "execution_count": 8,
   "id": "58ebc867",
   "metadata": {},
   "outputs": [
    {
     "name": "stdout",
     "output_type": "stream",
     "text": [
      "D\n",
      "E\n",
      "B\n"
     ]
    }
   ],
   "source": [
    "# find the highest 3 values in a dictionary.\n",
    "d = {'A': 42, 'B': 70, 'C': 68,'D': 92, 'E': 83, 'F': 15}\n",
    "\n",
    "d2 = sorted(d, key=d.get, reverse=True)\n",
    "\n",
    "for i in range(3):\n",
    "    print(d2[i])"
   ]
  },
  {
   "cell_type": "code",
   "execution_count": 2,
   "id": "5b92a990",
   "metadata": {},
   "outputs": [
    {
     "name": "stdout",
     "output_type": "stream",
     "text": [
      "7 14 21 35 56 91 147 238 "
     ]
    }
   ],
   "source": [
    "# Fibonacci series up to n. first 7 numbers in the series\n",
    "n1 = 0\n",
    "n2 = 7\n",
    "\n",
    "for i in range(2,10):\n",
    "    n3 = n1 + n2\n",
    "    n1 = n2\n",
    "    n2 = n3\n",
    "    print(n3 , end=' ')"
   ]
  },
  {
   "cell_type": "code",
   "execution_count": 2,
   "id": "8e1f3b9a",
   "metadata": {},
   "outputs": [
    {
     "name": "stdout",
     "output_type": "stream",
     "text": [
      "{1: 5, 5: 2, 3: 3, 4: 3, 2: 4}\n"
     ]
    }
   ],
   "source": [
    "# Counting the frequencies in a list using a dictionary\n",
    "l = [1, 1, 1, 5, 5, 3, 1, 3, 3, 1,4, 4, 4, 2, 2, 2, 2]\n",
    "d = {}\n",
    "\n",
    "for i in l:\n",
    "    if i in d:\n",
    "        d[i] += 1\n",
    "    else:\n",
    "        d[i] = 1\n",
    "print(d)"
   ]
  },
  {
   "cell_type": "code",
   "execution_count": null,
   "id": "69d2b209",
   "metadata": {},
   "outputs": [],
   "source": []
  }
 ],
 "metadata": {
  "kernelspec": {
   "display_name": "Python 3 (ipykernel)",
   "language": "python",
   "name": "python3"
  },
  "language_info": {
   "codemirror_mode": {
    "name": "ipython",
    "version": 3
   },
   "file_extension": ".py",
   "mimetype": "text/x-python",
   "name": "python",
   "nbconvert_exporter": "python",
   "pygments_lexer": "ipython3",
   "version": "3.9.12"
  }
 },
 "nbformat": 4,
 "nbformat_minor": 5
}
